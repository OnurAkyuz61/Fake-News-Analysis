{
 "cells": [
  {
   "cell_type": "markdown",
   "metadata": {},
   "source": [
    "# 📰 Sahte Haber Analizi - Veri Keşfetme\n",
    "\n",
    "Bu notebook'ta sahte ve gerçek haber veri setlerini detaylı analiz edeceğiz."
   ]
  },
  {
   "cell_type": "code",
   "execution_count": 1,
   "metadata": {
    "execution": {
     "iopub.execute_input": "2025-08-11T01:08:33.262774Z",
     "iopub.status.busy": "2025-08-11T01:08:33.262670Z",
     "iopub.status.idle": "2025-08-11T01:08:39.117576Z",
     "shell.execute_reply": "2025-08-11T01:08:39.117222Z"
    }
   },
   "outputs": [
    {
     "name": "stdout",
     "output_type": "stream",
     "text": [
      "✅ Kütüphaneler yüklendi!\n"
     ]
    }
   ],
   "source": [
    "import pandas as pd\n",
    "import numpy as np\n",
    "import matplotlib.pyplot as plt\n",
    "import seaborn as sns\n",
    "import plotly.express as px\n",
    "import warnings\n",
    "warnings.filterwarnings('ignore')\n",
    "\n",
    "plt.style.use('default')\n",
    "sns.set_palette(\"husl\")\n",
    "plt.rcParams['figure.figsize'] = (12, 8)\n",
    "\n",
    "print(\"✅ Kütüphaneler yüklendi!\")"
   ]
  },
  {
   "cell_type": "code",
   "execution_count": 2,
   "metadata": {
    "execution": {
     "iopub.execute_input": "2025-08-11T01:08:39.145984Z",
     "iopub.status.busy": "2025-08-11T01:08:39.145697Z",
     "iopub.status.idle": "2025-08-11T01:08:40.057312Z",
     "shell.execute_reply": "2025-08-11T01:08:40.056814Z"
    }
   },
   "outputs": [
    {
     "name": "stdout",
     "output_type": "stream",
     "text": [
      "Sahte haberler: (23481, 4)\n",
      "Gerçek haberler: (21417, 4)\n",
      "\n",
      "Birleştirilmiş veri: (44898, 6)\n",
      "                                               title  \\\n",
      "0  Ben Stein Calls Out 9th Circuit Court: Committ...   \n",
      "1  Trump drops Steve Bannon from National Securit...   \n",
      "2  Puerto Rico expects U.S. to lift Jones Act shi...   \n",
      "3   OOPS: Trump Just Accidentally Confirmed He Le...   \n",
      "4  Donald Trump heads for Scotland to reopen a go...   \n",
      "\n",
      "                                                text       subject  \\\n",
      "0  21st Century Wire says Ben Stein, reputable pr...       US_News   \n",
      "1  WASHINGTON (Reuters) - U.S. President Donald T...  politicsNews   \n",
      "2  (Reuters) - Puerto Rico Governor Ricardo Rosse...  politicsNews   \n",
      "3  On Monday, Donald Trump once again embarrassed...          News   \n",
      "4  GLASGOW, Scotland (Reuters) - Most U.S. presid...  politicsNews   \n",
      "\n",
      "                  date  label    type  \n",
      "0    February 13, 2017      0   Sahte  \n",
      "1       April 5, 2017       1  Gerçek  \n",
      "2  September 27, 2017       1  Gerçek  \n",
      "3         May 22, 2017      0   Sahte  \n",
      "4       June 24, 2016       1  Gerçek  \n"
     ]
    }
   ],
   "source": [
    "# Veri yükleme\n",
    "fake_news = pd.read_csv('../data/Fake.csv')\n",
    "real_news = pd.read_csv('../data/True.csv')\n",
    "\n",
    "print(f\"Sahte haberler: {fake_news.shape}\")\n",
    "print(f\"Gerçek haberler: {real_news.shape}\")\n",
    "\n",
    "# Etiketleme\n",
    "fake_news['label'] = 0\n",
    "real_news['label'] = 1\n",
    "fake_news['type'] = 'Sahte'\n",
    "real_news['type'] = 'Gerçek'\n",
    "\n",
    "# Birleştirme\n",
    "df = pd.concat([fake_news, real_news], ignore_index=True)\n",
    "df = df.sample(frac=1, random_state=42).reset_index(drop=True)\n",
    "\n",
    "print(f\"\\nBirleştirilmiş veri: {df.shape}\")\n",
    "print(df.head())"
   ]
  },
  {
   "cell_type": "code",
   "execution_count": 3,
   "metadata": {
    "execution": {
     "iopub.execute_input": "2025-08-11T01:08:40.059393Z",
     "iopub.status.busy": "2025-08-11T01:08:40.059150Z",
     "iopub.status.idle": "2025-08-11T01:08:41.326368Z",
     "shell.execute_reply": "2025-08-11T01:08:41.325954Z"
    }
   },
   "outputs": [
    {
     "name": "stdout",
     "output_type": "stream",
     "text": [
      "📊 TEMEL İSTATİSTİKLER\n",
      "========================================\n",
      "Toplam haber: 44,898\n",
      "Sahte haber: 23,481\n",
      "Gerçek haber: 21,417\n",
      "Sahte oran: 52.3%\n"
     ]
    },
    {
     "name": "stdout",
     "output_type": "stream",
     "text": [
      "\n",
      "📏 Metin uzunlukları hesaplandı\n"
     ]
    }
   ],
   "source": [
    "# Temel istatistikler\n",
    "print(\"📊 TEMEL İSTATİSTİKLER\")\n",
    "print(\"=\" * 40)\n",
    "print(f\"Toplam haber: {len(df):,}\")\n",
    "print(f\"Sahte haber: {len(df[df['label'] == 0]):,}\")\n",
    "print(f\"Gerçek haber: {len(df[df['label'] == 1]):,}\")\n",
    "print(f\"Sahte oran: {len(df[df['label'] == 0]) / len(df) * 100:.1f}%\")\n",
    "\n",
    "# Metin uzunlukları\n",
    "df['title_length'] = df['title'].str.len()\n",
    "df['text_length'] = df['text'].str.len()\n",
    "df['word_count'] = df['text'].str.split().str.len()\n",
    "\n",
    "print(\"\\n📏 Metin uzunlukları hesaplandı\")"
   ]
  }
 ],
 "metadata": {
  "kernelspec": {
   "display_name": "base",
   "language": "python",
   "name": "python3"
  },
  "language_info": {
   "codemirror_mode": {
    "name": "ipython",
    "version": 3
   },
   "file_extension": ".py",
   "mimetype": "text/x-python",
   "name": "python",
   "nbconvert_exporter": "python",
   "pygments_lexer": "ipython3",
   "version": "3.12.4"
  }
 },
 "nbformat": 4,
 "nbformat_minor": 4
}
