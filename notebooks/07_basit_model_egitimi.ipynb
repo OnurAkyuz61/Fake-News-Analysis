{
 "cells": [
  {
   "cell_type": "markdown",
   "metadata": {},
   "source": [
    "# 🤖 Sahte Haber Tespiti - Basit Model Eğitimi\n",
    "\n",
    "Bu notebook'ta temel kütüphanelerle sahte haber tespit modeli eğiteceğiz."
   ]
  },
  {
   "cell_type": "code",
   "execution_count": 1,
   "metadata": {
    "execution": {
     "iopub.execute_input": "2025-08-11T01:41:50.317800Z",
     "iopub.status.busy": "2025-08-11T01:41:50.317457Z",
     "iopub.status.idle": "2025-08-11T01:41:52.214943Z",
     "shell.execute_reply": "2025-08-11T01:41:52.214676Z"
    }
   },
   "outputs": [
    {
     "name": "stdout",
     "output_type": "stream",
     "text": [
      "✅ Kütüphaneler yüklendi!\n"
     ]
    }
   ],
   "source": [
    "import pandas as pd\n",
    "import numpy as np\n",
    "import matplotlib.pyplot as plt\n",
    "import seaborn as sns\n",
    "from sklearn.model_selection import train_test_split\n",
    "from sklearn.feature_extraction.text import TfidfVectorizer\n",
    "from sklearn.linear_model import LogisticRegression\n",
    "from sklearn.ensemble import RandomForestClassifier\n",
    "from sklearn.naive_bayes import MultinomialNB\n",
    "from sklearn.metrics import classification_report, confusion_matrix, accuracy_score\n",
    "import pickle\n",
    "import warnings\n",
    "warnings.filterwarnings('ignore')\n",
    "\n",
    "plt.rcParams['figure.figsize'] = (12, 8)\n",
    "print(\"✅ Kütüphaneler yüklendi!\")"
   ]
  },
  {
   "cell_type": "code",
   "execution_count": 2,
   "metadata": {
    "execution": {
     "iopub.execute_input": "2025-08-11T01:41:52.235882Z",
     "iopub.status.busy": "2025-08-11T01:41:52.235655Z",
     "iopub.status.idle": "2025-08-11T01:41:53.201900Z",
     "shell.execute_reply": "2025-08-11T01:41:53.201581Z"
    }
   },
   "outputs": [
    {
     "name": "stdout",
     "output_type": "stream",
     "text": [
      "📁 Veri yükleniyor...\n"
     ]
    },
    {
     "name": "stdout",
     "output_type": "stream",
     "text": [
      "✅ Veri hazır: 44,898 haber\n",
      "📊 Sahte: 23,481\n",
      "📊 Gerçek: 21,417\n"
     ]
    }
   ],
   "source": [
    "# Veri yükleme\n",
    "print(\"📁 Veri yükleniyor...\")\n",
    "\n",
    "fake_news = pd.read_csv('../data/Fake.csv')\n",
    "real_news = pd.read_csv('../data/True.csv')\n",
    "\n",
    "# Etiketleme\n",
    "fake_news['label'] = 0  # Sahte\n",
    "real_news['label'] = 1  # Gerçek\n",
    "\n",
    "# Birleştirme\n",
    "df = pd.concat([fake_news, real_news], ignore_index=True)\n",
    "df = df.sample(frac=1, random_state=42).reset_index(drop=True)\n",
    "\n",
    "# Temizleme\n",
    "df = df.dropna(subset=['title', 'text'])\n",
    "df['combined_text'] = df['title'] + ' ' + df['text']\n",
    "\n",
    "print(f\"✅ Veri hazır: {len(df):,} haber\")\n",
    "print(f\"📊 Sahte: {len(df[df['label'] == 0]):,}\")\n",
    "print(f\"📊 Gerçek: {len(df[df['label'] == 1]):,}\")"
   ]
  },
  {
   "cell_type": "code",
   "execution_count": 3,
   "metadata": {
    "execution": {
     "iopub.execute_input": "2025-08-11T01:41:53.203509Z",
     "iopub.status.busy": "2025-08-11T01:41:53.203377Z",
     "iopub.status.idle": "2025-08-11T01:41:59.120101Z",
     "shell.execute_reply": "2025-08-11T01:41:59.119868Z"
    }
   },
   "outputs": [
    {
     "name": "stdout",
     "output_type": "stream",
     "text": [
      "🔄 Eğitim seti: 35,918 örnek\n",
      "🔄 Test seti: 8,980 örnek\n",
      "\n",
      "🔤 TF-IDF vektörizasyon...\n"
     ]
    },
    {
     "name": "stdout",
     "output_type": "stream",
     "text": [
      "✅ 5000 özellik oluşturuldu\n"
     ]
    }
   ],
   "source": [
    "# Veri setini böl\n",
    "X = df['combined_text']\n",
    "y = df['label']\n",
    "\n",
    "X_train, X_test, y_train, y_test = train_test_split(\n",
    "    X, y, test_size=0.2, random_state=42, stratify=y\n",
    ")\n",
    "\n",
    "print(f\"🔄 Eğitim seti: {len(X_train):,} örnek\")\n",
    "print(f\"🔄 Test seti: {len(X_test):,} örnek\")\n",
    "\n",
    "# TF-IDF\n",
    "print(\"\\n🔤 TF-IDF vektörizasyon...\")\n",
    "tfidf = TfidfVectorizer(max_features=5000, stop_words='english', lowercase=True)\n",
    "X_train_tfidf = tfidf.fit_transform(X_train)\n",
    "X_test_tfidf = tfidf.transform(X_test)\n",
    "\n",
    "print(f\"✅ {X_train_tfidf.shape[1]} özellik oluşturuldu\")"
   ]
  },
  {
   "cell_type": "code",
   "execution_count": 4,
   "metadata": {
    "execution": {
     "iopub.execute_input": "2025-08-11T01:41:59.121897Z",
     "iopub.status.busy": "2025-08-11T01:41:59.121747Z",
     "iopub.status.idle": "2025-08-11T01:42:17.700521Z",
     "shell.execute_reply": "2025-08-11T01:42:17.700251Z"
    }
   },
   "outputs": [
    {
     "name": "stdout",
     "output_type": "stream",
     "text": [
      "🤖 Modeller eğitiliyor...\n",
      "\n",
      "🔄 Logistic Regression eğitiliyor...\n"
     ]
    },
    {
     "name": "stdout",
     "output_type": "stream",
     "text": [
      "✅ Logistic Regression Doğruluk: 0.9870\n",
      "\n",
      "🔄 Random Forest eğitiliyor...\n"
     ]
    },
    {
     "name": "stdout",
     "output_type": "stream",
     "text": [
      "✅ Random Forest Doğruluk: 0.9981\n",
      "\n",
      "🔄 Naive Bayes eğitiliyor...\n",
      "✅ Naive Bayes Doğruluk: 0.9373\n",
      "\n",
      "🎯 Model eğitimi tamamlandı!\n"
     ]
    }
   ],
   "source": [
    "# Model eğitimi\n",
    "models = {\n",
    "    'Logistic Regression': LogisticRegression(random_state=42, max_iter=1000),\n",
    "    'Random Forest': RandomForestClassifier(n_estimators=100, random_state=42),\n",
    "    'Naive Bayes': MultinomialNB()\n",
    "}\n",
    "\n",
    "results = {}\n",
    "\n",
    "print(\"🤖 Modeller eğitiliyor...\")\n",
    "\n",
    "for name, model in models.items():\n",
    "    print(f\"\\n🔄 {name} eğitiliyor...\")\n",
    "    \n",
    "    # Eğitim\n",
    "    model.fit(X_train_tfidf, y_train)\n",
    "    \n",
    "    # Tahmin\n",
    "    y_pred = model.predict(X_test_tfidf)\n",
    "    \n",
    "    # Sonuçları kaydet\n",
    "    accuracy = accuracy_score(y_test, y_pred)\n",
    "    results[name] = {\n",
    "        'model': model,\n",
    "        'accuracy': accuracy,\n",
    "        'predictions': y_pred\n",
    "    }\n",
    "    \n",
    "    print(f\"✅ {name} Doğruluk: {accuracy:.4f}\")\n",
    "\n",
    "print(\"\\n🎯 Model eğitimi tamamlandı!\")"
   ]
  },
  {
   "cell_type": "code",
   "execution_count": 5,
   "metadata": {
    "execution": {
     "iopub.execute_input": "2025-08-11T01:42:17.702071Z",
     "iopub.status.busy": "2025-08-11T01:42:17.701959Z",
     "iopub.status.idle": "2025-08-11T01:42:18.246571Z",
     "shell.execute_reply": "2025-08-11T01:42:18.246160Z"
    }
   },
   "outputs": [
    {
     "data": {
      "image/png": "[encoded data removed]",
      "text/plain": [
       "<Figure size 1800x600 with 4 Axes>"
      ]
     },
     "metadata": {},
     "output_type": "display_data"
    },
    {
     "name": "stdout",
     "output_type": "stream",
     "text": [
      "\n",
      "🏆 En iyi model: Random Forest (Doğruluk: 0.9981)\n"
     ]
    }
   ],
   "source": [
    "# Model performans görselleştirmesi\n",
    "fig, axes = plt.subplots(1, 3, figsize=(18, 6))\n",
    "\n",
    "# 1. Doğruluk karşılaştırması\n",
    "model_names = list(results.keys())\n",
    "accuracies = [results[name]['accuracy'] for name in model_names]\n",
    "\n",
    "bars = axes[0].bar(model_names, accuracies, color=['#ff6b6b', '#4ecdc4', '#45b7d1'])\n",
    "axes[0].set_title('🎯 Model Doğruluk Karşılaştırması', fontweight='bold')\n",
    "axes[0].set_ylabel('Doğruluk Oranı')\n",
    "axes[0].set_ylim(0.85, 1.0)\n",
    "axes[0].tick_params(axis='x', rotation=45)\n",
    "\n",
    "for bar, acc in zip(bars, accuracies):\n",
    "    axes[0].text(bar.get_x() + bar.get_width()/2., bar.get_height() + 0.005,\n",
    "                f'{acc:.3f}', ha='center', va='bottom', fontweight='bold')\n",
    "\n",
    "# 2. En iyi modelin confusion matrix\n",
    "best_model_name = max(results.keys(), key=lambda k: results[k]['accuracy'])\n",
    "best_predictions = results[best_model_name]['predictions']\n",
    "\n",
    "cm = confusion_matrix(y_test, best_predictions)\n",
    "sns.heatmap(cm, annot=True, fmt='d', cmap='Blues', ax=axes[1],\n",
    "           xticklabels=['Sahte', 'Gerçek'], yticklabels=['Sahte', 'Gerçek'])\n",
    "axes[1].set_title(f'🔥 {best_model_name} - Confusion Matrix', fontweight='bold')\n",
    "axes[1].set_xlabel('Tahmin')\n",
    "axes[1].set_ylabel('Gerçek')\n",
    "\n",
    "# 3. Model karşılaştırma bar chart\n",
    "y_pos = np.arange(len(model_names))\n",
    "axes[2].barh(y_pos, accuracies, color=['#ff6b6b', '#4ecdc4', '#45b7d1'])\n",
    "axes[2].set_yticks(y_pos)\n",
    "axes[2].set_yticklabels(model_names)\n",
    "axes[2].set_title('📊 Model Performans Sıralaması', fontweight='bold')\n",
    "axes[2].set_xlabel('Doğruluk Oranı')\n",
    "\n",
    "for i, acc in enumerate(accuracies):\n",
    "    axes[2].text(acc + 0.005, i, f'{acc:.3f}', va='center', fontweight='bold')\n",
    "\n",
    "plt.tight_layout()\n",
    "plt.savefig('../analysis/model_performansi.png', dpi=300, bbox_inches='tight')\n",
    "plt.show()\n",
    "\n",
    "print(f\"\\n🏆 En iyi model: {best_model_name} (Doğruluk: {results[best_model_name]['accuracy']:.4f})\")"
   ]
  },
  {
   "cell_type": "code",
   "execution_count": 6,
   "metadata": {
    "execution": {
     "iopub.execute_input": "2025-08-11T01:42:18.248283Z",
     "iopub.status.busy": "2025-08-11T01:42:18.248192Z",
     "iopub.status.idle": "2025-08-11T01:42:18.286815Z",
     "shell.execute_reply": "2025-08-11T01:42:18.286392Z"
    }
   },
   "outputs": [
    {
     "name": "stdout",
     "output_type": "stream",
     "text": [
      "📋 DETAYLI MODEL PERFORMANS RAPORU\n",
      "============================================================\n",
      "\n",
      "🤖 Logistic Regression:\n",
      "----------------------------------------\n",
      "Doğruluk: 0.9870\n",
      "\n",
      "Classification Report:\n",
      "              precision    recall  f1-score   support\n",
      "\n",
      "       Sahte       0.99      0.98      0.99      4696\n",
      "      Gerçek       0.98      0.99      0.99      4284\n",
      "\n",
      "    accuracy                           0.99      8980\n",
      "   macro avg       0.99      0.99      0.99      8980\n",
      "weighted avg       0.99      0.99      0.99      8980\n",
      "\n",
      "\n",
      "🤖 Random Forest:\n",
      "----------------------------------------\n",
      "Doğruluk: 0.9981\n",
      "\n",
      "Classification Report:\n",
      "              precision    recall  f1-score   support\n",
      "\n",
      "       Sahte       1.00      1.00      1.00      4696\n",
      "      Gerçek       1.00      1.00      1.00      4284\n",
      "\n",
      "    accuracy                           1.00      8980\n",
      "   macro avg       1.00      1.00      1.00      8980\n",
      "weighted avg       1.00      1.00      1.00      8980\n",
      "\n",
      "\n",
      "🤖 Naive Bayes:\n",
      "----------------------------------------\n",
      "Doğruluk: 0.9373\n",
      "\n",
      "Classification Report:\n",
      "              precision    recall  f1-score   support\n",
      "\n",
      "       Sahte       0.94      0.94      0.94      4696\n",
      "      Gerçek       0.94      0.93      0.93      4284\n",
      "\n",
      "    accuracy                           0.94      8980\n",
      "   macro avg       0.94      0.94      0.94      8980\n",
      "weighted avg       0.94      0.94      0.94      8980\n",
      "\n",
      "\n",
      "💾 En iyi model kaydedildi: Random Forest\n",
      "💾 TF-IDF vektörizer kaydedildi\n",
      "\n",
      "🎉 Model eğitimi başarıyla tamamlandı!\n"
     ]
    }
   ],
   "source": [
    "# Detaylı model raporları\n",
    "print(\"📋 DETAYLI MODEL PERFORMANS RAPORU\")\n",
    "print(\"=\" * 60)\n",
    "\n",
    "for name in model_names:\n",
    "    print(f\"\\n🤖 {name}:\")\n",
    "    print(\"-\" * 40)\n",
    "    print(f\"Doğruluk: {results[name]['accuracy']:.4f}\")\n",
    "    print(\"\\nClassification Report:\")\n",
    "    print(classification_report(y_test, results[name]['predictions'], \n",
    "                              target_names=['Sahte', 'Gerçek']))\n",
    "\n",
    "# En iyi modeli kaydet\n",
    "best_model = results[best_model_name]['model']\n",
    "\n",
    "with open(f'../models/en_iyi_model_{best_model_name.lower().replace(\" \", \"_\")}.pkl', 'wb') as f:\n",
    "    pickle.dump(best_model, f)\n",
    "\n",
    "with open('../models/tfidf_vectorizer.pkl', 'wb') as f:\n",
    "    pickle.dump(tfidf, f)\n",
    "\n",
    "print(f\"\\n💾 En iyi model kaydedildi: {best_model_name}\")\n",
    "print(\"💾 TF-IDF vektörizer kaydedildi\")\n",
    "print(\"\\n🎉 Model eğitimi başarıyla tamamlandı!\")"
   ]
  },
  {
   "cell_type": "code",
   "execution_count": 7,
   "metadata": {
    "execution": {
     "iopub.execute_input": "2025-08-11T01:42:18.288731Z",
     "iopub.status.busy": "2025-08-11T01:42:18.288584Z",
     "iopub.status.idle": "2025-08-11T01:42:18.308862Z",
     "shell.execute_reply": "2025-08-11T01:42:18.308256Z"
    }
   },
   "outputs": [
    {
     "name": "stdout",
     "output_type": "stream",
     "text": [
      "🧪 MODEL TEST ÖRNEKLERİ\n",
      "==================================================\n",
      "\n",
      "1. Metin: 'Breaking: Scientists discover new planet in solar system'\n",
      "   Tahmin: Sahte (Güven: 96.0%)\n",
      "\n",
      "2. Metin: 'URGENT: Government hiding alien contact from public'\n",
      "   Tahmin: Sahte (Güven: 85.0%)\n",
      "\n",
      "3. Metin: 'Economic report shows steady growth in technology sector'\n",
      "   Tahmin: Sahte (Güven: 96.0%)\n",
      "\n",
      "✅ Model test edildi ve çalışıyor!\n"
     ]
    }
   ],
   "source": [
    "# Test fonksiyonu\n",
    "def predict_news(text, model, vectorizer):\n",
    "    \"\"\"\n",
    "    Verilen metin için sahte/gerçek haber tahmini yapar\n",
    "    \"\"\"\n",
    "    text_tfidf = vectorizer.transform([text])\n",
    "    prediction = model.predict(text_tfidf)[0]\n",
    "    probability = model.predict_proba(text_tfidf)[0]\n",
    "    \n",
    "    result = \"Gerçek\" if prediction == 1 else \"Sahte\"\n",
    "    confidence = max(probability) * 100\n",
    "    \n",
    "    return result, confidence\n",
    "\n",
    "# Test örnekleri\n",
    "test_texts = [\n",
    "    \"Breaking: Scientists discover new planet in solar system\",\n",
    "    \"URGENT: Government hiding alien contact from public\",\n",
    "    \"Economic report shows steady growth in technology sector\"\n",
    "]\n",
    "\n",
    "print(\"🧪 MODEL TEST ÖRNEKLERİ\")\n",
    "print(\"=\" * 50)\n",
    "\n",
    "for i, text in enumerate(test_texts, 1):\n",
    "    result, confidence = predict_news(text, best_model, tfidf)\n",
    "    print(f\"\\n{i}. Metin: '{text}'\")\n",
    "    print(f\"   Tahmin: {result} (Güven: {confidence:.1f}%)\")\n",
    "\n",
    "print(\"\\n✅ Model test edildi ve çalışıyor!\")"
   ]
  }
 ],
 "metadata": {
  "kernelspec": {
   "display_name": "Python 3",
   "language": "python",
   "name": "python3"
  },
  "language_info": {
   "codemirror_mode": {
    "name": "ipython",
    "version": 3
   },
   "file_extension": ".py",
   "mimetype": "text/x-python",
   "name": "python",
   "nbconvert_exporter": "python",
   "pygments_lexer": "ipython3",
   "version": "3.12.4"
  }
 },
 "nbformat": 4,
 "nbformat_minor": 4
}
